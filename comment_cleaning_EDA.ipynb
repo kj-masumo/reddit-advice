{
 "cells": [
  {
   "cell_type": "markdown",
   "metadata": {},
   "source": [
    "# Comment Data Cleaning and Preliminary Analysis\n",
    "\n",
    "### Team Name: Team 3\n",
    "### Team Members: Wen Yi Aw, Walker Azam, Ken Masumoto\n",
    "\n",
    "One of our research questions for this project is \"What are the qualitites of 'good' advice on career advice subreddits?\" To answer this question, we need to analyze the comments on the submissions from our chosen subreddits. We start by importing the necessary libraries and reading in the comment data CSVs from Phase 1.\n",
    "\n",
    "### Contributions\n",
    "\n",
    "- Walker: Topic modeling analysis\n",
    "- Wen Yi: More submission data collection + Comment data analysis\n",
    "- Ken: Comment data cleaning and analysis"
   ]
  },
  {
   "cell_type": "markdown",
   "metadata": {},
   "source": [
    "## Part 1: Cleaning"
   ]
  },
  {
   "cell_type": "markdown",
   "metadata": {},
   "source": [
    "We start the cleaning process by importing the necessary libraries and reading in our csv file containing our comment data."
   ]
  },
  {
   "cell_type": "code",
   "execution_count": 4,
   "metadata": {},
   "outputs": [],
   "source": [
    "# import necessary packages\n",
    "import pandas as pd\n",
    "import re, string"
   ]
  },
  {
   "cell_type": "code",
   "execution_count": 5,
   "metadata": {},
   "outputs": [],
   "source": [
    "# load data\n",
    "ask_HR_comments = pd.read_csv(\"askHR_comments.csv\", lineterminator='\\n')\n",
    "career_guidance_comments = pd.read_csv(\"careerguidance_comments.csv\", lineterminator='\\n')\n",
    "\n",
    "# join data files\n",
    "comments = pd.concat([ask_HR_comments, career_guidance_comments])"
   ]
  },
  {
   "cell_type": "code",
   "execution_count": 6,
   "metadata": {},
   "outputs": [
    {
     "data": {
      "text/html": [
       "<div>\n",
       "<style scoped>\n",
       "    .dataframe tbody tr th:only-of-type {\n",
       "        vertical-align: middle;\n",
       "    }\n",
       "\n",
       "    .dataframe tbody tr th {\n",
       "        vertical-align: top;\n",
       "    }\n",
       "\n",
       "    .dataframe thead th {\n",
       "        text-align: right;\n",
       "    }\n",
       "</style>\n",
       "<table border=\"1\" class=\"dataframe\">\n",
       "  <thead>\n",
       "    <tr style=\"text-align: right;\">\n",
       "      <th></th>\n",
       "      <th>Unnamed: 0</th>\n",
       "      <th>submission id</th>\n",
       "      <th>comment id</th>\n",
       "      <th>body</th>\n",
       "      <th>score</th>\n",
       "      <th>is_submitter</th>\n",
       "      <th>distinguished</th>\n",
       "    </tr>\n",
       "  </thead>\n",
       "  <tbody>\n",
       "    <tr>\n",
       "      <td>0</td>\n",
       "      <td>0</td>\n",
       "      <td>r0mlaq</td>\n",
       "      <td>hltcpsw</td>\n",
       "      <td>Happy for you.  Side note but damn, they didn'...</td>\n",
       "      <td>243</td>\n",
       "      <td>False</td>\n",
       "      <td>NaN</td>\n",
       "    </tr>\n",
       "    <tr>\n",
       "      <td>1</td>\n",
       "      <td>1</td>\n",
       "      <td>r0mlaq</td>\n",
       "      <td>hltku5i</td>\n",
       "      <td>My boss came in a few weeks ago bitching about...</td>\n",
       "      <td>190</td>\n",
       "      <td>False</td>\n",
       "      <td>NaN</td>\n",
       "    </tr>\n",
       "    <tr>\n",
       "      <td>2</td>\n",
       "      <td>2</td>\n",
       "      <td>r0mlaq</td>\n",
       "      <td>hlti2pf</td>\n",
       "      <td>Let us know how they respond when you give not...</td>\n",
       "      <td>53</td>\n",
       "      <td>False</td>\n",
       "      <td>NaN</td>\n",
       "    </tr>\n",
       "    <tr>\n",
       "      <td>3</td>\n",
       "      <td>3</td>\n",
       "      <td>r0mlaq</td>\n",
       "      <td>hltdpvt</td>\n",
       "      <td>Did they let you go? Either way, these people ...</td>\n",
       "      <td>32</td>\n",
       "      <td>False</td>\n",
       "      <td>NaN</td>\n",
       "    </tr>\n",
       "    <tr>\n",
       "      <td>4</td>\n",
       "      <td>4</td>\n",
       "      <td>r0mlaq</td>\n",
       "      <td>hlu2q2d</td>\n",
       "      <td>Congratulations!!   After you have spent a few...</td>\n",
       "      <td>15</td>\n",
       "      <td>False</td>\n",
       "      <td>NaN</td>\n",
       "    </tr>\n",
       "  </tbody>\n",
       "</table>\n",
       "</div>"
      ],
      "text/plain": [
       "   Unnamed: 0 submission id comment id  \\\n",
       "0           0        r0mlaq    hltcpsw   \n",
       "1           1        r0mlaq    hltku5i   \n",
       "2           2        r0mlaq    hlti2pf   \n",
       "3           3        r0mlaq    hltdpvt   \n",
       "4           4        r0mlaq    hlu2q2d   \n",
       "\n",
       "                                                body  score  is_submitter  \\\n",
       "0  Happy for you.  Side note but damn, they didn'...    243         False   \n",
       "1  My boss came in a few weeks ago bitching about...    190         False   \n",
       "2  Let us know how they respond when you give not...     53         False   \n",
       "3  Did they let you go? Either way, these people ...     32         False   \n",
       "4  Congratulations!!   After you have spent a few...     15         False   \n",
       "\n",
       "  distinguished  \n",
       "0           NaN  \n",
       "1           NaN  \n",
       "2           NaN  \n",
       "3           NaN  \n",
       "4           NaN  "
      ]
     },
     "execution_count": 6,
     "metadata": {},
     "output_type": "execute_result"
    }
   ],
   "source": [
    "# data preview\n",
    "comments.head()"
   ]
  },
  {
   "cell_type": "markdown",
   "metadata": {},
   "source": [
    "Next, we can run the comment bodies through a preliminary cleaning process, removing links, digits, and punctuation."
   ]
  },
  {
   "cell_type": "code",
   "execution_count": 7,
   "metadata": {},
   "outputs": [],
   "source": [
    "def clean1(text):\n",
    "    \"\"\"\n",
    "    Given a text string, removes capitalization, links, numbers, and punctuation. Returns cleaned text string.\n",
    "    \"\"\"\n",
    "    text = text.lower() # make all text to lowercase\n",
    "    text = re.sub('(https?:\\/\\/)?([\\da-z\\.-]+)\\.([a-z\\.]{2,6})([\\/\\w \\.-]*)', '', text) # remove all links\n",
    "    text = re.sub('\\w*\\d\\w*', '', text) # remove all digits and words containing numbers\n",
    "    text = re.sub('[%s]' % re.escape(string.punctuation), '', text) # remove punctuation marks\n",
    "    text = re.sub('[^A-Za-z ]+', '', text) #remove non-alphabetic characters\n",
    "    return text\n",
    "\n",
    "# function to apply clean1 to all entries\n",
    "cleaner1 = lambda x: clean1(x)"
   ]
  },
  {
   "cell_type": "code",
   "execution_count": 8,
   "metadata": {},
   "outputs": [],
   "source": [
    "# clean comment body text\n",
    "comments['cleaned_body'] = pd.DataFrame(comments['body'].apply(cleaner1))"
   ]
  },
  {
   "cell_type": "code",
   "execution_count": 9,
   "metadata": {},
   "outputs": [
    {
     "data": {
      "text/html": [
       "<div>\n",
       "<style scoped>\n",
       "    .dataframe tbody tr th:only-of-type {\n",
       "        vertical-align: middle;\n",
       "    }\n",
       "\n",
       "    .dataframe tbody tr th {\n",
       "        vertical-align: top;\n",
       "    }\n",
       "\n",
       "    .dataframe thead th {\n",
       "        text-align: right;\n",
       "    }\n",
       "</style>\n",
       "<table border=\"1\" class=\"dataframe\">\n",
       "  <thead>\n",
       "    <tr style=\"text-align: right;\">\n",
       "      <th></th>\n",
       "      <th>Unnamed: 0</th>\n",
       "      <th>submission id</th>\n",
       "      <th>comment id</th>\n",
       "      <th>body</th>\n",
       "      <th>score</th>\n",
       "      <th>is_submitter</th>\n",
       "      <th>distinguished</th>\n",
       "      <th>cleaned_body</th>\n",
       "    </tr>\n",
       "  </thead>\n",
       "  <tbody>\n",
       "    <tr>\n",
       "      <td>0</td>\n",
       "      <td>0</td>\n",
       "      <td>r0mlaq</td>\n",
       "      <td>hltcpsw</td>\n",
       "      <td>Happy for you.  Side note but damn, they didn'...</td>\n",
       "      <td>243</td>\n",
       "      <td>False</td>\n",
       "      <td>NaN</td>\n",
       "      <td>happy for you  side note but damn they didnt e...</td>\n",
       "    </tr>\n",
       "    <tr>\n",
       "      <td>1</td>\n",
       "      <td>1</td>\n",
       "      <td>r0mlaq</td>\n",
       "      <td>hltku5i</td>\n",
       "      <td>My boss came in a few weeks ago bitching about...</td>\n",
       "      <td>190</td>\n",
       "      <td>False</td>\n",
       "      <td>NaN</td>\n",
       "      <td>my boss came in a few weeks ago bitching about...</td>\n",
       "    </tr>\n",
       "    <tr>\n",
       "      <td>2</td>\n",
       "      <td>2</td>\n",
       "      <td>r0mlaq</td>\n",
       "      <td>hlti2pf</td>\n",
       "      <td>Let us know how they respond when you give not...</td>\n",
       "      <td>53</td>\n",
       "      <td>False</td>\n",
       "      <td>NaN</td>\n",
       "      <td>let us know how they respond when you give not...</td>\n",
       "    </tr>\n",
       "    <tr>\n",
       "      <td>3</td>\n",
       "      <td>3</td>\n",
       "      <td>r0mlaq</td>\n",
       "      <td>hltdpvt</td>\n",
       "      <td>Did they let you go? Either way, these people ...</td>\n",
       "      <td>32</td>\n",
       "      <td>False</td>\n",
       "      <td>NaN</td>\n",
       "      <td>did they let you go either way these people ar...</td>\n",
       "    </tr>\n",
       "    <tr>\n",
       "      <td>4</td>\n",
       "      <td>4</td>\n",
       "      <td>r0mlaq</td>\n",
       "      <td>hlu2q2d</td>\n",
       "      <td>Congratulations!!   After you have spent a few...</td>\n",
       "      <td>15</td>\n",
       "      <td>False</td>\n",
       "      <td>NaN</td>\n",
       "      <td>congratulations   after you have spent a few m...</td>\n",
       "    </tr>\n",
       "  </tbody>\n",
       "</table>\n",
       "</div>"
      ],
      "text/plain": [
       "   Unnamed: 0 submission id comment id  \\\n",
       "0           0        r0mlaq    hltcpsw   \n",
       "1           1        r0mlaq    hltku5i   \n",
       "2           2        r0mlaq    hlti2pf   \n",
       "3           3        r0mlaq    hltdpvt   \n",
       "4           4        r0mlaq    hlu2q2d   \n",
       "\n",
       "                                                body  score  is_submitter  \\\n",
       "0  Happy for you.  Side note but damn, they didn'...    243         False   \n",
       "1  My boss came in a few weeks ago bitching about...    190         False   \n",
       "2  Let us know how they respond when you give not...     53         False   \n",
       "3  Did they let you go? Either way, these people ...     32         False   \n",
       "4  Congratulations!!   After you have spent a few...     15         False   \n",
       "\n",
       "  distinguished                                       cleaned_body  \n",
       "0           NaN  happy for you  side note but damn they didnt e...  \n",
       "1           NaN  my boss came in a few weeks ago bitching about...  \n",
       "2           NaN  let us know how they respond when you give not...  \n",
       "3           NaN  did they let you go either way these people ar...  \n",
       "4           NaN  congratulations   after you have spent a few m...  "
      ]
     },
     "execution_count": 9,
     "metadata": {},
     "output_type": "execute_result"
    }
   ],
   "source": [
    "# show cleaned text\n",
    "comments.head()"
   ]
  },
  {
   "cell_type": "markdown",
   "metadata": {},
   "source": [
    "Next, we can run the comments' text bodies through an additional round of cleaning by removing the stopwords and stemming each word."
   ]
  },
  {
   "cell_type": "code",
   "execution_count": 10,
   "metadata": {},
   "outputs": [],
   "source": [
    "# import necessary packages for stopwords, stemming, tokenizing\n",
    "from nltk.corpus import stopwords\n",
    "from nltk.stem import PorterStemmer\n",
    "from nltk.tokenize import sent_tokenize, word_tokenize\n",
    "\n",
    "# set stopword language\n",
    "stopeng = set(stopwords.words('english'))\n",
    "ps = PorterStemmer()"
   ]
  },
  {
   "cell_type": "code",
   "execution_count": 11,
   "metadata": {},
   "outputs": [],
   "source": [
    "def removeStopAndStem(text):\n",
    "    \"\"\"\n",
    "    Given a text string, removes stopwords and converts words to stems, then returns as one string.\n",
    "    \"\"\"\n",
    "    tokens = word_tokenize(text) # tokenize text\n",
    "    tokens_nostop = [w for w in tokens if w not in stopeng] # remove stopwords\n",
    "    tokens_stemmed = [ps.stem(w) for w in tokens_nostop if w != ps.stem(w)] # replace tokens with stems\n",
    "    text_nostop_stemmed = \" \".join([word for word in tokens_stemmed]) # join back to sentence form\n",
    "    return text_nostop_stemmed\n",
    "\n",
    "# function to apply removeStopAndStem to all entries\n",
    "stopRemoverAndStemmer = lambda x: removeStopAndStem(x)"
   ]
  },
  {
   "cell_type": "code",
   "execution_count": 12,
   "metadata": {},
   "outputs": [],
   "source": [
    "# remove stopwords, then stem comment body text\n",
    "comments['cleaned_body'] = pd.DataFrame(comments['cleaned_body'].apply(stopRemoverAndStemmer))"
   ]
  },
  {
   "cell_type": "code",
   "execution_count": 13,
   "metadata": {},
   "outputs": [
    {
     "data": {
      "text/html": [
       "<div>\n",
       "<style scoped>\n",
       "    .dataframe tbody tr th:only-of-type {\n",
       "        vertical-align: middle;\n",
       "    }\n",
       "\n",
       "    .dataframe tbody tr th {\n",
       "        vertical-align: top;\n",
       "    }\n",
       "\n",
       "    .dataframe thead th {\n",
       "        text-align: right;\n",
       "    }\n",
       "</style>\n",
       "<table border=\"1\" class=\"dataframe\">\n",
       "  <thead>\n",
       "    <tr style=\"text-align: right;\">\n",
       "      <th></th>\n",
       "      <th>Unnamed: 0</th>\n",
       "      <th>submission id</th>\n",
       "      <th>comment id</th>\n",
       "      <th>body</th>\n",
       "      <th>score</th>\n",
       "      <th>is_submitter</th>\n",
       "      <th>distinguished</th>\n",
       "      <th>cleaned_body</th>\n",
       "    </tr>\n",
       "  </thead>\n",
       "  <tbody>\n",
       "    <tr>\n",
       "      <td>0</td>\n",
       "      <td>0</td>\n",
       "      <td>r0mlaq</td>\n",
       "      <td>hltcpsw</td>\n",
       "      <td>Happy for you.  Side note but damn, they didn'...</td>\n",
       "      <td>243</td>\n",
       "      <td>False</td>\n",
       "      <td>NaN</td>\n",
       "      <td>happi theyr go realli awaken tri backfil</td>\n",
       "    </tr>\n",
       "    <tr>\n",
       "      <td>1</td>\n",
       "      <td>1</td>\n",
       "      <td>r0mlaq</td>\n",
       "      <td>hltku5i</td>\n",
       "      <td>My boss came in a few weeks ago bitching about...</td>\n",
       "      <td>190</td>\n",
       "      <td>False</td>\n",
       "      <td>NaN</td>\n",
       "      <td>week bitch expens everyth get ask get live rai...</td>\n",
       "    </tr>\n",
       "    <tr>\n",
       "      <td>2</td>\n",
       "      <td>2</td>\n",
       "      <td>r0mlaq</td>\n",
       "      <td>hlti2pf</td>\n",
       "      <td>Let us know how they respond when you give not...</td>\n",
       "      <td>53</td>\n",
       "      <td>False</td>\n",
       "      <td>NaN</td>\n",
       "      <td>notic pleas</td>\n",
       "    </tr>\n",
       "    <tr>\n",
       "      <td>3</td>\n",
       "      <td>3</td>\n",
       "      <td>r0mlaq</td>\n",
       "      <td>hltdpvt</td>\n",
       "      <td>Did they let you go? Either way, these people ...</td>\n",
       "      <td>32</td>\n",
       "      <td>False</td>\n",
       "      <td>NaN</td>\n",
       "      <td>peopl idiot manag think peopl employ</td>\n",
       "    </tr>\n",
       "    <tr>\n",
       "      <td>4</td>\n",
       "      <td>4</td>\n",
       "      <td>r0mlaq</td>\n",
       "      <td>hlu2q2d</td>\n",
       "      <td>Congratulations!!   After you have spent a few...</td>\n",
       "      <td>15</td>\n",
       "      <td>False</td>\n",
       "      <td>NaN</td>\n",
       "      <td>congratul month get comfort settl pleas abl co...</td>\n",
       "    </tr>\n",
       "  </tbody>\n",
       "</table>\n",
       "</div>"
      ],
      "text/plain": [
       "   Unnamed: 0 submission id comment id  \\\n",
       "0           0        r0mlaq    hltcpsw   \n",
       "1           1        r0mlaq    hltku5i   \n",
       "2           2        r0mlaq    hlti2pf   \n",
       "3           3        r0mlaq    hltdpvt   \n",
       "4           4        r0mlaq    hlu2q2d   \n",
       "\n",
       "                                                body  score  is_submitter  \\\n",
       "0  Happy for you.  Side note but damn, they didn'...    243         False   \n",
       "1  My boss came in a few weeks ago bitching about...    190         False   \n",
       "2  Let us know how they respond when you give not...     53         False   \n",
       "3  Did they let you go? Either way, these people ...     32         False   \n",
       "4  Congratulations!!   After you have spent a few...     15         False   \n",
       "\n",
       "  distinguished                                       cleaned_body  \n",
       "0           NaN           happi theyr go realli awaken tri backfil  \n",
       "1           NaN  week bitch expens everyth get ask get live rai...  \n",
       "2           NaN                                        notic pleas  \n",
       "3           NaN               peopl idiot manag think peopl employ  \n",
       "4           NaN  congratul month get comfort settl pleas abl co...  "
      ]
     },
     "execution_count": 13,
     "metadata": {},
     "output_type": "execute_result"
    }
   ],
   "source": [
    "# display data\n",
    "comments.head()"
   ]
  },
  {
   "cell_type": "markdown",
   "metadata": {},
   "source": [
    "## Part 2: Preliminary Analysis\n",
    "\n",
    "Now that we have a cleaned, stemmed, and stopword-free version of the comment bodies, we can start to perform some of the analysis on this text. For this preliminary analysis, we decided to collect the following attributes of each comment body:\n",
    "- Sentiment score (VADER and TextBlob)\n",
    "- Ratio of stopwords\n",
    "- Length of post\n",
    "- Readbility score (Gunning-Fog and Smog)"
   ]
  },
  {
   "cell_type": "markdown",
   "metadata": {},
   "source": [
    "### Sentiment Score Calculation\n",
    "\n",
    "We chose to measure sentiment for the comments using VADER and TextBlob. We start by importing the libraries necessary to perform this analysis."
   ]
  },
  {
   "cell_type": "code",
   "execution_count": 14,
   "metadata": {},
   "outputs": [],
   "source": [
    "# import packages for sentiment analysis\n",
    "from textblob import TextBlob\n",
    "from vaderSentiment.vaderSentiment import SentimentIntensityAnalyzer"
   ]
  },
  {
   "cell_type": "markdown",
   "metadata": {},
   "source": [
    "Then we can save the TextBlob scorer in a lambda function and apply it to all the cleaned rows in the dataframe."
   ]
  },
  {
   "cell_type": "code",
   "execution_count": 15,
   "metadata": {},
   "outputs": [],
   "source": [
    "def TextBlobSent(text):\n",
    "    \"\"\"\n",
    "    Given a text string, returns polarity of the text, scored by TextBlob.\n",
    "    \"\"\"\n",
    "    blob = TextBlob(text)\n",
    "    return blob.polarity\n",
    "\n",
    "# function to apply TextBlobSent to all entries\n",
    "TextBlobSentimentizer = lambda x: TextBlobSent(x)"
   ]
  },
  {
   "cell_type": "code",
   "execution_count": 16,
   "metadata": {},
   "outputs": [],
   "source": [
    "# score cleaned comment text on polarity\n",
    "comments['TextBlob'] = pd.DataFrame(comments['cleaned_body'].apply(TextBlobSentimentizer))"
   ]
  },
  {
   "cell_type": "markdown",
   "metadata": {},
   "source": [
    "We can also add a column to the dataframe that categorizes the comments as \"positive,\" \"negative,\" or \"neutral\" depending on the TextBlob sentiment score. We know that VADER uses the following thresholds, so we will use the same for the TextBlob scores to control for as much as we can (and because they use the same scale).\n",
    "\n",
    "- Negative: Score <= -0.05\n",
    "- Neutral: -0.05 < Score < 0.05\n",
    "- Positive: Score >= 0.05"
   ]
  },
  {
   "cell_type": "code",
   "execution_count": 17,
   "metadata": {},
   "outputs": [],
   "source": [
    "def overallScore(compoundscore):\n",
    "    \"\"\"\n",
    "    Given polarity score, returns \"positive\", \"negative\", or \"neutral\" based on the sign of the score\n",
    "    (with 0.05 buffer).\n",
    "    \"\"\"\n",
    "    if compoundscore > 0.05:\n",
    "        return \"positive\"\n",
    "    elif compoundscore < -0.05:\n",
    "        return \"negative\"\n",
    "    else:\n",
    "        return \"neutral\"\n",
    "\n",
    "# function to apply overallScore to all entries\n",
    "overallScorer = lambda x: overallScore(x)"
   ]
  },
  {
   "cell_type": "code",
   "execution_count": 18,
   "metadata": {},
   "outputs": [],
   "source": [
    "# calculate sentiment category of TextBlob scores and store in new column\n",
    "comments['TextBlob_Category'] = pd.DataFrame(comments['TextBlob'].apply(overallScorer))"
   ]
  },
  {
   "cell_type": "markdown",
   "metadata": {},
   "source": [
    "We can also do the exact same process, except with the VADER scores this time."
   ]
  },
  {
   "cell_type": "code",
   "execution_count": 19,
   "metadata": {},
   "outputs": [],
   "source": [
    "# initialize VADER sentiment intensity analyzer\n",
    "analyzer = SentimentIntensityAnalyzer()\n",
    "\n",
    "def VADERSent(text):\n",
    "    \"\"\"\n",
    "    Given text string, returns compound polarity score, calculated using VADER sentiment analysis.\n",
    "    \"\"\"\n",
    "    return analyzer.polarity_scores(text)['compound']\n",
    "\n",
    "# function to apply VADERSent to all entries\n",
    "VADERSentimentizer = lambda x: VADERSent(x)"
   ]
  },
  {
   "cell_type": "code",
   "execution_count": 20,
   "metadata": {},
   "outputs": [],
   "source": [
    "# calculate VADER polarity score of each comment and store in new column\n",
    "comments['VADER'] = pd.DataFrame(comments['cleaned_body'].apply(VADERSentimentizer))"
   ]
  },
  {
   "cell_type": "code",
   "execution_count": 21,
   "metadata": {},
   "outputs": [],
   "source": [
    "# calculate sentiment category of VADER scores and store in new column\n",
    "comments['VADER_Category'] = pd.DataFrame(comments['VADER'].apply(overallScorer))"
   ]
  },
  {
   "cell_type": "markdown",
   "metadata": {},
   "source": [
    "And now we can verify that everything has been added correctly."
   ]
  },
  {
   "cell_type": "code",
   "execution_count": 22,
   "metadata": {},
   "outputs": [
    {
     "data": {
      "text/html": [
       "<div>\n",
       "<style scoped>\n",
       "    .dataframe tbody tr th:only-of-type {\n",
       "        vertical-align: middle;\n",
       "    }\n",
       "\n",
       "    .dataframe tbody tr th {\n",
       "        vertical-align: top;\n",
       "    }\n",
       "\n",
       "    .dataframe thead th {\n",
       "        text-align: right;\n",
       "    }\n",
       "</style>\n",
       "<table border=\"1\" class=\"dataframe\">\n",
       "  <thead>\n",
       "    <tr style=\"text-align: right;\">\n",
       "      <th></th>\n",
       "      <th>Unnamed: 0</th>\n",
       "      <th>submission id</th>\n",
       "      <th>comment id</th>\n",
       "      <th>body</th>\n",
       "      <th>score</th>\n",
       "      <th>is_submitter</th>\n",
       "      <th>distinguished</th>\n",
       "      <th>cleaned_body</th>\n",
       "      <th>TextBlob</th>\n",
       "      <th>TextBlob_Category</th>\n",
       "      <th>VADER</th>\n",
       "      <th>VADER_Category</th>\n",
       "    </tr>\n",
       "  </thead>\n",
       "  <tbody>\n",
       "    <tr>\n",
       "      <td>0</td>\n",
       "      <td>0</td>\n",
       "      <td>r0mlaq</td>\n",
       "      <td>hltcpsw</td>\n",
       "      <td>Happy for you.  Side note but damn, they didn'...</td>\n",
       "      <td>243</td>\n",
       "      <td>False</td>\n",
       "      <td>NaN</td>\n",
       "      <td>happi theyr go realli awaken tri backfil</td>\n",
       "      <td>0.000000</td>\n",
       "      <td>neutral</td>\n",
       "      <td>0.0000</td>\n",
       "      <td>neutral</td>\n",
       "    </tr>\n",
       "    <tr>\n",
       "      <td>1</td>\n",
       "      <td>1</td>\n",
       "      <td>r0mlaq</td>\n",
       "      <td>hltku5i</td>\n",
       "      <td>My boss came in a few weeks ago bitching about...</td>\n",
       "      <td>190</td>\n",
       "      <td>False</td>\n",
       "      <td>NaN</td>\n",
       "      <td>week bitch expens everyth get ask get live rai...</td>\n",
       "      <td>0.136364</td>\n",
       "      <td>positive</td>\n",
       "      <td>-0.7184</td>\n",
       "      <td>negative</td>\n",
       "    </tr>\n",
       "    <tr>\n",
       "      <td>2</td>\n",
       "      <td>2</td>\n",
       "      <td>r0mlaq</td>\n",
       "      <td>hlti2pf</td>\n",
       "      <td>Let us know how they respond when you give not...</td>\n",
       "      <td>53</td>\n",
       "      <td>False</td>\n",
       "      <td>NaN</td>\n",
       "      <td>notic pleas</td>\n",
       "      <td>0.000000</td>\n",
       "      <td>neutral</td>\n",
       "      <td>0.0000</td>\n",
       "      <td>neutral</td>\n",
       "    </tr>\n",
       "    <tr>\n",
       "      <td>3</td>\n",
       "      <td>3</td>\n",
       "      <td>r0mlaq</td>\n",
       "      <td>hltdpvt</td>\n",
       "      <td>Did they let you go? Either way, these people ...</td>\n",
       "      <td>32</td>\n",
       "      <td>False</td>\n",
       "      <td>NaN</td>\n",
       "      <td>peopl idiot manag think peopl employ</td>\n",
       "      <td>-0.800000</td>\n",
       "      <td>negative</td>\n",
       "      <td>-0.5106</td>\n",
       "      <td>negative</td>\n",
       "    </tr>\n",
       "    <tr>\n",
       "      <td>4</td>\n",
       "      <td>4</td>\n",
       "      <td>r0mlaq</td>\n",
       "      <td>hlu2q2d</td>\n",
       "      <td>Congratulations!!   After you have spent a few...</td>\n",
       "      <td>15</td>\n",
       "      <td>False</td>\n",
       "      <td>NaN</td>\n",
       "      <td>congratul month get comfort settl pleas abl co...</td>\n",
       "      <td>-0.125000</td>\n",
       "      <td>negative</td>\n",
       "      <td>0.3612</td>\n",
       "      <td>positive</td>\n",
       "    </tr>\n",
       "  </tbody>\n",
       "</table>\n",
       "</div>"
      ],
      "text/plain": [
       "   Unnamed: 0 submission id comment id  \\\n",
       "0           0        r0mlaq    hltcpsw   \n",
       "1           1        r0mlaq    hltku5i   \n",
       "2           2        r0mlaq    hlti2pf   \n",
       "3           3        r0mlaq    hltdpvt   \n",
       "4           4        r0mlaq    hlu2q2d   \n",
       "\n",
       "                                                body  score  is_submitter  \\\n",
       "0  Happy for you.  Side note but damn, they didn'...    243         False   \n",
       "1  My boss came in a few weeks ago bitching about...    190         False   \n",
       "2  Let us know how they respond when you give not...     53         False   \n",
       "3  Did they let you go? Either way, these people ...     32         False   \n",
       "4  Congratulations!!   After you have spent a few...     15         False   \n",
       "\n",
       "  distinguished                                       cleaned_body  TextBlob  \\\n",
       "0           NaN           happi theyr go realli awaken tri backfil  0.000000   \n",
       "1           NaN  week bitch expens everyth get ask get live rai...  0.136364   \n",
       "2           NaN                                        notic pleas  0.000000   \n",
       "3           NaN               peopl idiot manag think peopl employ -0.800000   \n",
       "4           NaN  congratul month get comfort settl pleas abl co... -0.125000   \n",
       "\n",
       "  TextBlob_Category   VADER VADER_Category  \n",
       "0           neutral  0.0000        neutral  \n",
       "1          positive -0.7184       negative  \n",
       "2           neutral  0.0000        neutral  \n",
       "3          negative -0.5106       negative  \n",
       "4          negative  0.3612       positive  "
      ]
     },
     "execution_count": 22,
     "metadata": {},
     "output_type": "execute_result"
    }
   ],
   "source": [
    "comments.head()"
   ]
  },
  {
   "cell_type": "markdown",
   "metadata": {},
   "source": [
    "### Ratio of Stopwords and Length of Post\n",
    "\n",
    "To find the ratio of stopwords in the post, we have to work with the original body instead of the cleaned body, because the cleaned body has all of the stopwords already removed. We can do this by creating a function that takes in the body of the comment and divides the number of stopwords by the total number of words, then saving this as a lambda function and applying it to all of the rows, as we did with the sentiment analysis above."
   ]
  },
  {
   "cell_type": "code",
   "execution_count": 23,
   "metadata": {},
   "outputs": [],
   "source": [
    "def stopwordRatio(text):\n",
    "    \"\"\"\n",
    "    Given text string, returns the ratio of English stopwords to total word count.\n",
    "    \"\"\"\n",
    "    tokens = word_tokenize(text)\n",
    "    total_words = len(tokens)\n",
    "    total_stopwords = 0\n",
    "    # count stopwords\n",
    "    for token in tokens:\n",
    "        if token in stopeng:\n",
    "            total_stopwords += 1\n",
    "    return total_stopwords / total_words\n",
    "\n",
    "# function to apply stopwordRatioFinder to all entries\n",
    "stopwordRatioFinder = lambda x: stopwordRatio(x)"
   ]
  },
  {
   "cell_type": "code",
   "execution_count": 24,
   "metadata": {},
   "outputs": [],
   "source": [
    "# calculate stopword ratio of each comment and store in new column\n",
    "comments['stopword_ratio'] = pd.DataFrame(comments['body'].apply(stopwordRatioFinder))"
   ]
  },
  {
   "cell_type": "markdown",
   "metadata": {},
   "source": [
    "And we can verify that this column has been added correctly."
   ]
  },
  {
   "cell_type": "code",
   "execution_count": 25,
   "metadata": {},
   "outputs": [
    {
     "data": {
      "text/html": [
       "<div>\n",
       "<style scoped>\n",
       "    .dataframe tbody tr th:only-of-type {\n",
       "        vertical-align: middle;\n",
       "    }\n",
       "\n",
       "    .dataframe tbody tr th {\n",
       "        vertical-align: top;\n",
       "    }\n",
       "\n",
       "    .dataframe thead th {\n",
       "        text-align: right;\n",
       "    }\n",
       "</style>\n",
       "<table border=\"1\" class=\"dataframe\">\n",
       "  <thead>\n",
       "    <tr style=\"text-align: right;\">\n",
       "      <th></th>\n",
       "      <th>Unnamed: 0</th>\n",
       "      <th>submission id</th>\n",
       "      <th>comment id</th>\n",
       "      <th>body</th>\n",
       "      <th>score</th>\n",
       "      <th>is_submitter</th>\n",
       "      <th>distinguished</th>\n",
       "      <th>cleaned_body</th>\n",
       "      <th>TextBlob</th>\n",
       "      <th>TextBlob_Category</th>\n",
       "      <th>VADER</th>\n",
       "      <th>VADER_Category</th>\n",
       "      <th>stopword_ratio</th>\n",
       "    </tr>\n",
       "  </thead>\n",
       "  <tbody>\n",
       "    <tr>\n",
       "      <td>0</td>\n",
       "      <td>0</td>\n",
       "      <td>r0mlaq</td>\n",
       "      <td>hltcpsw</td>\n",
       "      <td>Happy for you.  Side note but damn, they didn'...</td>\n",
       "      <td>243</td>\n",
       "      <td>False</td>\n",
       "      <td>NaN</td>\n",
       "      <td>happi theyr go realli awaken tri backfil</td>\n",
       "      <td>0.000000</td>\n",
       "      <td>neutral</td>\n",
       "      <td>0.0000</td>\n",
       "      <td>neutral</td>\n",
       "      <td>0.414634</td>\n",
       "    </tr>\n",
       "    <tr>\n",
       "      <td>1</td>\n",
       "      <td>1</td>\n",
       "      <td>r0mlaq</td>\n",
       "      <td>hltku5i</td>\n",
       "      <td>My boss came in a few weeks ago bitching about...</td>\n",
       "      <td>190</td>\n",
       "      <td>False</td>\n",
       "      <td>NaN</td>\n",
       "      <td>week bitch expens everyth get ask get live rai...</td>\n",
       "      <td>0.136364</td>\n",
       "      <td>positive</td>\n",
       "      <td>-0.7184</td>\n",
       "      <td>negative</td>\n",
       "      <td>0.318182</td>\n",
       "    </tr>\n",
       "    <tr>\n",
       "      <td>2</td>\n",
       "      <td>2</td>\n",
       "      <td>r0mlaq</td>\n",
       "      <td>hlti2pf</td>\n",
       "      <td>Let us know how they respond when you give not...</td>\n",
       "      <td>53</td>\n",
       "      <td>False</td>\n",
       "      <td>NaN</td>\n",
       "      <td>notic pleas</td>\n",
       "      <td>0.000000</td>\n",
       "      <td>neutral</td>\n",
       "      <td>0.0000</td>\n",
       "      <td>neutral</td>\n",
       "      <td>0.307692</td>\n",
       "    </tr>\n",
       "    <tr>\n",
       "      <td>3</td>\n",
       "      <td>3</td>\n",
       "      <td>r0mlaq</td>\n",
       "      <td>hltdpvt</td>\n",
       "      <td>Did they let you go? Either way, these people ...</td>\n",
       "      <td>32</td>\n",
       "      <td>False</td>\n",
       "      <td>NaN</td>\n",
       "      <td>peopl idiot manag think peopl employ</td>\n",
       "      <td>-0.800000</td>\n",
       "      <td>negative</td>\n",
       "      <td>-0.5106</td>\n",
       "      <td>negative</td>\n",
       "      <td>0.379310</td>\n",
       "    </tr>\n",
       "    <tr>\n",
       "      <td>4</td>\n",
       "      <td>4</td>\n",
       "      <td>r0mlaq</td>\n",
       "      <td>hlu2q2d</td>\n",
       "      <td>Congratulations!!   After you have spent a few...</td>\n",
       "      <td>15</td>\n",
       "      <td>False</td>\n",
       "      <td>NaN</td>\n",
       "      <td>congratul month get comfort settl pleas abl co...</td>\n",
       "      <td>-0.125000</td>\n",
       "      <td>negative</td>\n",
       "      <td>0.3612</td>\n",
       "      <td>positive</td>\n",
       "      <td>0.365079</td>\n",
       "    </tr>\n",
       "  </tbody>\n",
       "</table>\n",
       "</div>"
      ],
      "text/plain": [
       "   Unnamed: 0 submission id comment id  \\\n",
       "0           0        r0mlaq    hltcpsw   \n",
       "1           1        r0mlaq    hltku5i   \n",
       "2           2        r0mlaq    hlti2pf   \n",
       "3           3        r0mlaq    hltdpvt   \n",
       "4           4        r0mlaq    hlu2q2d   \n",
       "\n",
       "                                                body  score  is_submitter  \\\n",
       "0  Happy for you.  Side note but damn, they didn'...    243         False   \n",
       "1  My boss came in a few weeks ago bitching about...    190         False   \n",
       "2  Let us know how they respond when you give not...     53         False   \n",
       "3  Did they let you go? Either way, these people ...     32         False   \n",
       "4  Congratulations!!   After you have spent a few...     15         False   \n",
       "\n",
       "  distinguished                                       cleaned_body  TextBlob  \\\n",
       "0           NaN           happi theyr go realli awaken tri backfil  0.000000   \n",
       "1           NaN  week bitch expens everyth get ask get live rai...  0.136364   \n",
       "2           NaN                                        notic pleas  0.000000   \n",
       "3           NaN               peopl idiot manag think peopl employ -0.800000   \n",
       "4           NaN  congratul month get comfort settl pleas abl co... -0.125000   \n",
       "\n",
       "  TextBlob_Category   VADER VADER_Category  stopword_ratio  \n",
       "0           neutral  0.0000        neutral        0.414634  \n",
       "1          positive -0.7184       negative        0.318182  \n",
       "2           neutral  0.0000        neutral        0.307692  \n",
       "3          negative -0.5106       negative        0.379310  \n",
       "4          negative  0.3612       positive        0.365079  "
      ]
     },
     "execution_count": 25,
     "metadata": {},
     "output_type": "execute_result"
    }
   ],
   "source": [
    "comments.head()"
   ]
  },
  {
   "cell_type": "markdown",
   "metadata": {},
   "source": [
    "Finding the length of the post is also a very similar process, but instead, we just return the total number of words in the text. Again, we will work with the original body for this."
   ]
  },
  {
   "cell_type": "code",
   "execution_count": 26,
   "metadata": {},
   "outputs": [],
   "source": [
    "def textLength(text):\n",
    "    \"\"\"\n",
    "    Given text string, returns word count.\n",
    "    \"\"\"\n",
    "    tokens = word_tokenize(text)\n",
    "    return len(tokens)\n",
    "\n",
    "# function to apply textLengthFinder to all entries\n",
    "textLengthFinder = lambda x: textLength(x)"
   ]
  },
  {
   "cell_type": "code",
   "execution_count": 27,
   "metadata": {},
   "outputs": [],
   "source": [
    "# calculate stopword ratio of each comment and store in new column\n",
    "comments['body_length'] = pd.DataFrame(comments['body'].apply(textLengthFinder))"
   ]
  },
  {
   "cell_type": "markdown",
   "metadata": {},
   "source": [
    "And again, we can verify that this was added correctly."
   ]
  },
  {
   "cell_type": "code",
   "execution_count": 28,
   "metadata": {},
   "outputs": [
    {
     "data": {
      "text/html": [
       "<div>\n",
       "<style scoped>\n",
       "    .dataframe tbody tr th:only-of-type {\n",
       "        vertical-align: middle;\n",
       "    }\n",
       "\n",
       "    .dataframe tbody tr th {\n",
       "        vertical-align: top;\n",
       "    }\n",
       "\n",
       "    .dataframe thead th {\n",
       "        text-align: right;\n",
       "    }\n",
       "</style>\n",
       "<table border=\"1\" class=\"dataframe\">\n",
       "  <thead>\n",
       "    <tr style=\"text-align: right;\">\n",
       "      <th></th>\n",
       "      <th>Unnamed: 0</th>\n",
       "      <th>submission id</th>\n",
       "      <th>comment id</th>\n",
       "      <th>body</th>\n",
       "      <th>score</th>\n",
       "      <th>is_submitter</th>\n",
       "      <th>distinguished</th>\n",
       "      <th>cleaned_body</th>\n",
       "      <th>TextBlob</th>\n",
       "      <th>TextBlob_Category</th>\n",
       "      <th>VADER</th>\n",
       "      <th>VADER_Category</th>\n",
       "      <th>stopword_ratio</th>\n",
       "      <th>body_length</th>\n",
       "    </tr>\n",
       "  </thead>\n",
       "  <tbody>\n",
       "    <tr>\n",
       "      <td>0</td>\n",
       "      <td>0</td>\n",
       "      <td>r0mlaq</td>\n",
       "      <td>hltcpsw</td>\n",
       "      <td>Happy for you.  Side note but damn, they didn'...</td>\n",
       "      <td>243</td>\n",
       "      <td>False</td>\n",
       "      <td>NaN</td>\n",
       "      <td>happi theyr go realli awaken tri backfil</td>\n",
       "      <td>0.000000</td>\n",
       "      <td>neutral</td>\n",
       "      <td>0.0000</td>\n",
       "      <td>neutral</td>\n",
       "      <td>0.414634</td>\n",
       "      <td>41</td>\n",
       "    </tr>\n",
       "    <tr>\n",
       "      <td>1</td>\n",
       "      <td>1</td>\n",
       "      <td>r0mlaq</td>\n",
       "      <td>hltku5i</td>\n",
       "      <td>My boss came in a few weeks ago bitching about...</td>\n",
       "      <td>190</td>\n",
       "      <td>False</td>\n",
       "      <td>NaN</td>\n",
       "      <td>week bitch expens everyth get ask get live rai...</td>\n",
       "      <td>0.136364</td>\n",
       "      <td>positive</td>\n",
       "      <td>-0.7184</td>\n",
       "      <td>negative</td>\n",
       "      <td>0.318182</td>\n",
       "      <td>44</td>\n",
       "    </tr>\n",
       "    <tr>\n",
       "      <td>2</td>\n",
       "      <td>2</td>\n",
       "      <td>r0mlaq</td>\n",
       "      <td>hlti2pf</td>\n",
       "      <td>Let us know how they respond when you give not...</td>\n",
       "      <td>53</td>\n",
       "      <td>False</td>\n",
       "      <td>NaN</td>\n",
       "      <td>notic pleas</td>\n",
       "      <td>0.000000</td>\n",
       "      <td>neutral</td>\n",
       "      <td>0.0000</td>\n",
       "      <td>neutral</td>\n",
       "      <td>0.307692</td>\n",
       "      <td>13</td>\n",
       "    </tr>\n",
       "    <tr>\n",
       "      <td>3</td>\n",
       "      <td>3</td>\n",
       "      <td>r0mlaq</td>\n",
       "      <td>hltdpvt</td>\n",
       "      <td>Did they let you go? Either way, these people ...</td>\n",
       "      <td>32</td>\n",
       "      <td>False</td>\n",
       "      <td>NaN</td>\n",
       "      <td>peopl idiot manag think peopl employ</td>\n",
       "      <td>-0.800000</td>\n",
       "      <td>negative</td>\n",
       "      <td>-0.5106</td>\n",
       "      <td>negative</td>\n",
       "      <td>0.379310</td>\n",
       "      <td>29</td>\n",
       "    </tr>\n",
       "    <tr>\n",
       "      <td>4</td>\n",
       "      <td>4</td>\n",
       "      <td>r0mlaq</td>\n",
       "      <td>hlu2q2d</td>\n",
       "      <td>Congratulations!!   After you have spent a few...</td>\n",
       "      <td>15</td>\n",
       "      <td>False</td>\n",
       "      <td>NaN</td>\n",
       "      <td>congratul month get comfort settl pleas abl co...</td>\n",
       "      <td>-0.125000</td>\n",
       "      <td>negative</td>\n",
       "      <td>0.3612</td>\n",
       "      <td>positive</td>\n",
       "      <td>0.365079</td>\n",
       "      <td>63</td>\n",
       "    </tr>\n",
       "  </tbody>\n",
       "</table>\n",
       "</div>"
      ],
      "text/plain": [
       "   Unnamed: 0 submission id comment id  \\\n",
       "0           0        r0mlaq    hltcpsw   \n",
       "1           1        r0mlaq    hltku5i   \n",
       "2           2        r0mlaq    hlti2pf   \n",
       "3           3        r0mlaq    hltdpvt   \n",
       "4           4        r0mlaq    hlu2q2d   \n",
       "\n",
       "                                                body  score  is_submitter  \\\n",
       "0  Happy for you.  Side note but damn, they didn'...    243         False   \n",
       "1  My boss came in a few weeks ago bitching about...    190         False   \n",
       "2  Let us know how they respond when you give not...     53         False   \n",
       "3  Did they let you go? Either way, these people ...     32         False   \n",
       "4  Congratulations!!   After you have spent a few...     15         False   \n",
       "\n",
       "  distinguished                                       cleaned_body  TextBlob  \\\n",
       "0           NaN           happi theyr go realli awaken tri backfil  0.000000   \n",
       "1           NaN  week bitch expens everyth get ask get live rai...  0.136364   \n",
       "2           NaN                                        notic pleas  0.000000   \n",
       "3           NaN               peopl idiot manag think peopl employ -0.800000   \n",
       "4           NaN  congratul month get comfort settl pleas abl co... -0.125000   \n",
       "\n",
       "  TextBlob_Category   VADER VADER_Category  stopword_ratio  body_length  \n",
       "0           neutral  0.0000        neutral        0.414634           41  \n",
       "1          positive -0.7184       negative        0.318182           44  \n",
       "2           neutral  0.0000        neutral        0.307692           13  \n",
       "3          negative -0.5106       negative        0.379310           29  \n",
       "4          negative  0.3612       positive        0.365079           63  "
      ]
     },
     "execution_count": 28,
     "metadata": {},
     "output_type": "execute_result"
    }
   ],
   "source": [
    "comments.head()"
   ]
  },
  {
   "cell_type": "markdown",
   "metadata": {},
   "source": [
    "### Readability Scores\n",
    "\n",
    "The final variable we chose to include for this part of the analysis was readability scores. We will use the both Gunning-Fog and the Smog Readability Index scores to measure the readability of each comment. Again, we will use the original body for this analysis, as the cleaned body is nonsensical with the stopwords removed and the words stemmed."
   ]
  },
  {
   "cell_type": "code",
   "execution_count": 29,
   "metadata": {},
   "outputs": [],
   "source": [
    "import textstat"
   ]
  },
  {
   "cell_type": "code",
   "execution_count": 30,
   "metadata": {},
   "outputs": [],
   "source": [
    "def smog(text):\n",
    "    \"\"\"\n",
    "    Given text string, returns SMOG readability grade.\n",
    "    \"\"\"\n",
    "    return textstat.smog_index(text)\n",
    "\n",
    "# function to apply smog calculation function to all entries\n",
    "smog_finder = lambda x: smog(x)"
   ]
  },
  {
   "cell_type": "code",
   "execution_count": 31,
   "metadata": {},
   "outputs": [],
   "source": [
    "# calculate SMOG grade of each comment and store in new column\n",
    "comments['smog_score'] = pd.DataFrame(comments['body'].apply(smog_finder))"
   ]
  },
  {
   "cell_type": "code",
   "execution_count": 32,
   "metadata": {},
   "outputs": [
    {
     "data": {
      "text/html": [
       "<div>\n",
       "<style scoped>\n",
       "    .dataframe tbody tr th:only-of-type {\n",
       "        vertical-align: middle;\n",
       "    }\n",
       "\n",
       "    .dataframe tbody tr th {\n",
       "        vertical-align: top;\n",
       "    }\n",
       "\n",
       "    .dataframe thead th {\n",
       "        text-align: right;\n",
       "    }\n",
       "</style>\n",
       "<table border=\"1\" class=\"dataframe\">\n",
       "  <thead>\n",
       "    <tr style=\"text-align: right;\">\n",
       "      <th></th>\n",
       "      <th>Unnamed: 0</th>\n",
       "      <th>submission id</th>\n",
       "      <th>comment id</th>\n",
       "      <th>body</th>\n",
       "      <th>score</th>\n",
       "      <th>is_submitter</th>\n",
       "      <th>distinguished</th>\n",
       "      <th>cleaned_body</th>\n",
       "      <th>TextBlob</th>\n",
       "      <th>TextBlob_Category</th>\n",
       "      <th>VADER</th>\n",
       "      <th>VADER_Category</th>\n",
       "      <th>stopword_ratio</th>\n",
       "      <th>body_length</th>\n",
       "      <th>smog_score</th>\n",
       "    </tr>\n",
       "  </thead>\n",
       "  <tbody>\n",
       "    <tr>\n",
       "      <td>0</td>\n",
       "      <td>0</td>\n",
       "      <td>r0mlaq</td>\n",
       "      <td>hltcpsw</td>\n",
       "      <td>Happy for you.  Side note but damn, they didn'...</td>\n",
       "      <td>243</td>\n",
       "      <td>False</td>\n",
       "      <td>NaN</td>\n",
       "      <td>happi theyr go realli awaken tri backfil</td>\n",
       "      <td>0.000000</td>\n",
       "      <td>neutral</td>\n",
       "      <td>0.0000</td>\n",
       "      <td>neutral</td>\n",
       "      <td>0.414634</td>\n",
       "      <td>41</td>\n",
       "      <td>7.8</td>\n",
       "    </tr>\n",
       "    <tr>\n",
       "      <td>1</td>\n",
       "      <td>1</td>\n",
       "      <td>r0mlaq</td>\n",
       "      <td>hltku5i</td>\n",
       "      <td>My boss came in a few weeks ago bitching about...</td>\n",
       "      <td>190</td>\n",
       "      <td>False</td>\n",
       "      <td>NaN</td>\n",
       "      <td>week bitch expens everyth get ask get live rai...</td>\n",
       "      <td>0.136364</td>\n",
       "      <td>positive</td>\n",
       "      <td>-0.7184</td>\n",
       "      <td>negative</td>\n",
       "      <td>0.318182</td>\n",
       "      <td>44</td>\n",
       "      <td>7.8</td>\n",
       "    </tr>\n",
       "    <tr>\n",
       "      <td>2</td>\n",
       "      <td>2</td>\n",
       "      <td>r0mlaq</td>\n",
       "      <td>hlti2pf</td>\n",
       "      <td>Let us know how they respond when you give not...</td>\n",
       "      <td>53</td>\n",
       "      <td>False</td>\n",
       "      <td>NaN</td>\n",
       "      <td>notic pleas</td>\n",
       "      <td>0.000000</td>\n",
       "      <td>neutral</td>\n",
       "      <td>0.0000</td>\n",
       "      <td>neutral</td>\n",
       "      <td>0.307692</td>\n",
       "      <td>13</td>\n",
       "      <td>0.0</td>\n",
       "    </tr>\n",
       "    <tr>\n",
       "      <td>3</td>\n",
       "      <td>3</td>\n",
       "      <td>r0mlaq</td>\n",
       "      <td>hltdpvt</td>\n",
       "      <td>Did they let you go? Either way, these people ...</td>\n",
       "      <td>32</td>\n",
       "      <td>False</td>\n",
       "      <td>NaN</td>\n",
       "      <td>peopl idiot manag think peopl employ</td>\n",
       "      <td>-0.800000</td>\n",
       "      <td>negative</td>\n",
       "      <td>-0.5106</td>\n",
       "      <td>negative</td>\n",
       "      <td>0.379310</td>\n",
       "      <td>29</td>\n",
       "      <td>7.8</td>\n",
       "    </tr>\n",
       "    <tr>\n",
       "      <td>4</td>\n",
       "      <td>4</td>\n",
       "      <td>r0mlaq</td>\n",
       "      <td>hlu2q2d</td>\n",
       "      <td>Congratulations!!   After you have spent a few...</td>\n",
       "      <td>15</td>\n",
       "      <td>False</td>\n",
       "      <td>NaN</td>\n",
       "      <td>congratul month get comfort settl pleas abl co...</td>\n",
       "      <td>-0.125000</td>\n",
       "      <td>negative</td>\n",
       "      <td>0.3612</td>\n",
       "      <td>positive</td>\n",
       "      <td>0.365079</td>\n",
       "      <td>63</td>\n",
       "      <td>8.8</td>\n",
       "    </tr>\n",
       "  </tbody>\n",
       "</table>\n",
       "</div>"
      ],
      "text/plain": [
       "   Unnamed: 0 submission id comment id  \\\n",
       "0           0        r0mlaq    hltcpsw   \n",
       "1           1        r0mlaq    hltku5i   \n",
       "2           2        r0mlaq    hlti2pf   \n",
       "3           3        r0mlaq    hltdpvt   \n",
       "4           4        r0mlaq    hlu2q2d   \n",
       "\n",
       "                                                body  score  is_submitter  \\\n",
       "0  Happy for you.  Side note but damn, they didn'...    243         False   \n",
       "1  My boss came in a few weeks ago bitching about...    190         False   \n",
       "2  Let us know how they respond when you give not...     53         False   \n",
       "3  Did they let you go? Either way, these people ...     32         False   \n",
       "4  Congratulations!!   After you have spent a few...     15         False   \n",
       "\n",
       "  distinguished                                       cleaned_body  TextBlob  \\\n",
       "0           NaN           happi theyr go realli awaken tri backfil  0.000000   \n",
       "1           NaN  week bitch expens everyth get ask get live rai...  0.136364   \n",
       "2           NaN                                        notic pleas  0.000000   \n",
       "3           NaN               peopl idiot manag think peopl employ -0.800000   \n",
       "4           NaN  congratul month get comfort settl pleas abl co... -0.125000   \n",
       "\n",
       "  TextBlob_Category   VADER VADER_Category  stopword_ratio  body_length  \\\n",
       "0           neutral  0.0000        neutral        0.414634           41   \n",
       "1          positive -0.7184       negative        0.318182           44   \n",
       "2           neutral  0.0000        neutral        0.307692           13   \n",
       "3          negative -0.5106       negative        0.379310           29   \n",
       "4          negative  0.3612       positive        0.365079           63   \n",
       "\n",
       "   smog_score  \n",
       "0         7.8  \n",
       "1         7.8  \n",
       "2         0.0  \n",
       "3         7.8  \n",
       "4         8.8  "
      ]
     },
     "execution_count": 32,
     "metadata": {},
     "output_type": "execute_result"
    }
   ],
   "source": [
    "comments.head()"
   ]
  },
  {
   "cell_type": "code",
   "execution_count": 33,
   "metadata": {},
   "outputs": [],
   "source": [
    "def gunning_fog(text):\n",
    "    \"\"\"\n",
    "    Given text string, returns Gunning-Fog readability score.\n",
    "    \"\"\"\n",
    "    return textstat.gunning_fog(text)\n",
    "\n",
    "# function to apply gunning_fog_finder to all entries\n",
    "gunning_fog_finder = lambda x: gunning_fog(x)"
   ]
  },
  {
   "cell_type": "code",
   "execution_count": 34,
   "metadata": {},
   "outputs": [],
   "source": [
    "# calculate Gunning Fog score of each comment and store in new column\n",
    "comments['gunning_fog_score'] = pd.DataFrame(comments['body'].apply(gunning_fog_finder))"
   ]
  },
  {
   "cell_type": "markdown",
   "metadata": {},
   "source": [
    "And of course, we can verify that these columns have been added correctly!"
   ]
  },
  {
   "cell_type": "code",
   "execution_count": 35,
   "metadata": {},
   "outputs": [
    {
     "data": {
      "text/html": [
       "<div>\n",
       "<style scoped>\n",
       "    .dataframe tbody tr th:only-of-type {\n",
       "        vertical-align: middle;\n",
       "    }\n",
       "\n",
       "    .dataframe tbody tr th {\n",
       "        vertical-align: top;\n",
       "    }\n",
       "\n",
       "    .dataframe thead th {\n",
       "        text-align: right;\n",
       "    }\n",
       "</style>\n",
       "<table border=\"1\" class=\"dataframe\">\n",
       "  <thead>\n",
       "    <tr style=\"text-align: right;\">\n",
       "      <th></th>\n",
       "      <th>Unnamed: 0</th>\n",
       "      <th>submission id</th>\n",
       "      <th>comment id</th>\n",
       "      <th>body</th>\n",
       "      <th>score</th>\n",
       "      <th>is_submitter</th>\n",
       "      <th>distinguished</th>\n",
       "      <th>cleaned_body</th>\n",
       "      <th>TextBlob</th>\n",
       "      <th>TextBlob_Category</th>\n",
       "      <th>VADER</th>\n",
       "      <th>VADER_Category</th>\n",
       "      <th>stopword_ratio</th>\n",
       "      <th>body_length</th>\n",
       "      <th>smog_score</th>\n",
       "      <th>gunning_fog_score</th>\n",
       "    </tr>\n",
       "  </thead>\n",
       "  <tbody>\n",
       "    <tr>\n",
       "      <td>0</td>\n",
       "      <td>0</td>\n",
       "      <td>r0mlaq</td>\n",
       "      <td>hltcpsw</td>\n",
       "      <td>Happy for you.  Side note but damn, they didn'...</td>\n",
       "      <td>243</td>\n",
       "      <td>False</td>\n",
       "      <td>NaN</td>\n",
       "      <td>happi theyr go realli awaken tri backfil</td>\n",
       "      <td>0.000000</td>\n",
       "      <td>neutral</td>\n",
       "      <td>0.0000</td>\n",
       "      <td>neutral</td>\n",
       "      <td>0.414634</td>\n",
       "      <td>41</td>\n",
       "      <td>7.8</td>\n",
       "      <td>5.82</td>\n",
       "    </tr>\n",
       "    <tr>\n",
       "      <td>1</td>\n",
       "      <td>1</td>\n",
       "      <td>r0mlaq</td>\n",
       "      <td>hltku5i</td>\n",
       "      <td>My boss came in a few weeks ago bitching about...</td>\n",
       "      <td>190</td>\n",
       "      <td>False</td>\n",
       "      <td>NaN</td>\n",
       "      <td>week bitch expens everyth get ask get live rai...</td>\n",
       "      <td>0.136364</td>\n",
       "      <td>positive</td>\n",
       "      <td>-0.7184</td>\n",
       "      <td>negative</td>\n",
       "      <td>0.318182</td>\n",
       "      <td>44</td>\n",
       "      <td>7.8</td>\n",
       "      <td>6.23</td>\n",
       "    </tr>\n",
       "    <tr>\n",
       "      <td>2</td>\n",
       "      <td>2</td>\n",
       "      <td>r0mlaq</td>\n",
       "      <td>hlti2pf</td>\n",
       "      <td>Let us know how they respond when you give not...</td>\n",
       "      <td>53</td>\n",
       "      <td>False</td>\n",
       "      <td>NaN</td>\n",
       "      <td>notic pleas</td>\n",
       "      <td>0.000000</td>\n",
       "      <td>neutral</td>\n",
       "      <td>0.0000</td>\n",
       "      <td>neutral</td>\n",
       "      <td>0.307692</td>\n",
       "      <td>13</td>\n",
       "      <td>0.0</td>\n",
       "      <td>4.40</td>\n",
       "    </tr>\n",
       "    <tr>\n",
       "      <td>3</td>\n",
       "      <td>3</td>\n",
       "      <td>r0mlaq</td>\n",
       "      <td>hltdpvt</td>\n",
       "      <td>Did they let you go? Either way, these people ...</td>\n",
       "      <td>32</td>\n",
       "      <td>False</td>\n",
       "      <td>NaN</td>\n",
       "      <td>peopl idiot manag think peopl employ</td>\n",
       "      <td>-0.800000</td>\n",
       "      <td>negative</td>\n",
       "      <td>-0.5106</td>\n",
       "      <td>negative</td>\n",
       "      <td>0.379310</td>\n",
       "      <td>29</td>\n",
       "      <td>7.8</td>\n",
       "      <td>6.52</td>\n",
       "    </tr>\n",
       "    <tr>\n",
       "      <td>4</td>\n",
       "      <td>4</td>\n",
       "      <td>r0mlaq</td>\n",
       "      <td>hlu2q2d</td>\n",
       "      <td>Congratulations!!   After you have spent a few...</td>\n",
       "      <td>15</td>\n",
       "      <td>False</td>\n",
       "      <td>NaN</td>\n",
       "      <td>congratul month get comfort settl pleas abl co...</td>\n",
       "      <td>-0.125000</td>\n",
       "      <td>negative</td>\n",
       "      <td>0.3612</td>\n",
       "      <td>positive</td>\n",
       "      <td>0.365079</td>\n",
       "      <td>63</td>\n",
       "      <td>8.8</td>\n",
       "      <td>7.51</td>\n",
       "    </tr>\n",
       "  </tbody>\n",
       "</table>\n",
       "</div>"
      ],
      "text/plain": [
       "   Unnamed: 0 submission id comment id  \\\n",
       "0           0        r0mlaq    hltcpsw   \n",
       "1           1        r0mlaq    hltku5i   \n",
       "2           2        r0mlaq    hlti2pf   \n",
       "3           3        r0mlaq    hltdpvt   \n",
       "4           4        r0mlaq    hlu2q2d   \n",
       "\n",
       "                                                body  score  is_submitter  \\\n",
       "0  Happy for you.  Side note but damn, they didn'...    243         False   \n",
       "1  My boss came in a few weeks ago bitching about...    190         False   \n",
       "2  Let us know how they respond when you give not...     53         False   \n",
       "3  Did they let you go? Either way, these people ...     32         False   \n",
       "4  Congratulations!!   After you have spent a few...     15         False   \n",
       "\n",
       "  distinguished                                       cleaned_body  TextBlob  \\\n",
       "0           NaN           happi theyr go realli awaken tri backfil  0.000000   \n",
       "1           NaN  week bitch expens everyth get ask get live rai...  0.136364   \n",
       "2           NaN                                        notic pleas  0.000000   \n",
       "3           NaN               peopl idiot manag think peopl employ -0.800000   \n",
       "4           NaN  congratul month get comfort settl pleas abl co... -0.125000   \n",
       "\n",
       "  TextBlob_Category   VADER VADER_Category  stopword_ratio  body_length  \\\n",
       "0           neutral  0.0000        neutral        0.414634           41   \n",
       "1          positive -0.7184       negative        0.318182           44   \n",
       "2           neutral  0.0000        neutral        0.307692           13   \n",
       "3          negative -0.5106       negative        0.379310           29   \n",
       "4          negative  0.3612       positive        0.365079           63   \n",
       "\n",
       "   smog_score  gunning_fog_score  \n",
       "0         7.8               5.82  \n",
       "1         7.8               6.23  \n",
       "2         0.0               4.40  \n",
       "3         7.8               6.52  \n",
       "4         8.8               7.51  "
      ]
     },
     "execution_count": 35,
     "metadata": {},
     "output_type": "execute_result"
    }
   ],
   "source": [
    "comments.head()"
   ]
  },
  {
   "cell_type": "markdown",
   "metadata": {},
   "source": [
    "## Part 3: Preliminary Visualization and Analysis\n",
    "\n",
    "We now have a large number of categories to be able analyze to try to find what constitutes \"good\" advice on advice-giving subreddits. We use the comment score as the measure of \"good\" advice on the subreddits, and can find correlations between the comment score and the variables of interest. We can easily visualize these correlations using a heat map."
   ]
  },
  {
   "cell_type": "code",
   "execution_count": 36,
   "metadata": {},
   "outputs": [],
   "source": [
    "# import visualization libraries\n",
    "import matplotlib\n",
    "import matplotlib.pyplot as plt\n",
    "from matplotlib import figure\n",
    "import seaborn as sns"
   ]
  },
  {
   "cell_type": "code",
   "execution_count": 54,
   "metadata": {},
   "outputs": [
    {
     "data": {
      "text/plain": [
       "Text(0.5, 1, 'Heatmap of Comment Data')"
      ]
     },
     "execution_count": 54,
     "metadata": {},
     "output_type": "execute_result"
    },
    {
     "data": {
      "image/png": "[encoded data removed]",
      "text/plain": [
       "<Figure size 720x720 with 2 Axes>"
      ]
     },
     "metadata": {
      "needs_background": "light"
     },
     "output_type": "display_data"
    }
   ],
   "source": [
    "f, ax = plt.subplots(figsize=(10, 10))\n",
    "# heatmap of correlation between variables\n",
    "sns.heatmap(comments.drop(['distinguished', 'Unnamed: 0'], axis=1).corr(), ax=ax, annot=True, cmap=\"BuPu\")\n",
    "bottom, top = ax.get_ylim()\n",
    "ax.set_ylim(bottom + 0.5, top - 0.5)\n",
    "plt.yticks(rotation=0)\n",
    "plt.title('Heatmap of Comment Data')"
   ]
  },
  {
   "cell_type": "markdown",
   "metadata": {},
   "source": [
    "Unfortunately, it does not look like any of the correlations between any of the variables and the comment score are particularly strong. However, this is just a preliminary analysis, so we can revisit this later to try to find any stronger relationships.\n",
    "\n",
    "We can also start to visualize the distributions of some of the variables that we just discovered, to get an overall better understanding of the data."
   ]
  },
  {
   "cell_type": "code",
   "execution_count": 68,
   "metadata": {},
   "outputs": [
    {
     "data": {
      "text/plain": [
       "Text(0.5, 0, 'Upvotes')"
      ]
     },
     "execution_count": 68,
     "metadata": {},
     "output_type": "execute_result"
    },
    {
     "data": {
      "image/png": "[encoded data removed]",
      "text/plain": [
       "<Figure size 432x288 with 1 Axes>"
      ]
     },
     "metadata": {
      "needs_background": "light"
     },
     "output_type": "display_data"
    }
   ],
   "source": [
    "# histogram of upvotes\n",
    "comments['score'].plot.hist()\n",
    "plt.title(\"Comment Upvote Distribution\")\n",
    "plt.xlabel(\"Upvotes\")"
   ]
  },
  {
   "cell_type": "markdown",
   "metadata": {},
   "source": [
    "This isn't particularly useful, so we will instead graph the histogram of scores under 200."
   ]
  },
  {
   "cell_type": "code",
   "execution_count": 66,
   "metadata": {},
   "outputs": [
    {
     "data": {
      "text/plain": [
       "Text(0.5, 0, 'Score')"
      ]
     },
     "execution_count": 66,
     "metadata": {},
     "output_type": "execute_result"
    },
    {
     "data": {
      "image/png": "[encoded data removed]",
      "text/plain": [
       "<Figure size 432x288 with 1 Axes>"
      ]
     },
     "metadata": {
      "needs_background": "light"
     },
     "output_type": "display_data"
    }
   ],
   "source": [
    "# histogram of upvotes for comments with less than 200 upvotes\n",
    "comments[comments['score'] <= 200].score.plot.hist(bins=20)\n",
    "plt.title(\"Comment Score Distribution (for Score < 200)\")\n",
    "plt.xlabel(\"Score\")"
   ]
  },
  {
   "cell_type": "markdown",
   "metadata": {},
   "source": [
    "We can see that the scores are relatively normally distributed, with the vast majority of scores being close to 0."
   ]
  },
  {
   "cell_type": "code",
   "execution_count": 40,
   "metadata": {},
   "outputs": [
    {
     "data": {
      "text/plain": [
       "Text(0.5, 0, 'Polarity')"
      ]
     },
     "execution_count": 40,
     "metadata": {},
     "output_type": "execute_result"
    },
    {
     "data": {
      "image/png": "[encoded data removed]",
      "text/plain": [
       "<Figure size 432x288 with 1 Axes>"
      ]
     },
     "metadata": {
      "needs_background": "light"
     },
     "output_type": "display_data"
    }
   ],
   "source": [
    "# histogram of TextBlob polarity scores\n",
    "comments['TextBlob'].plot.hist()\n",
    "plt.title(\"TextBlob Polarity Score Distribution\")\n",
    "plt.xlabel(\"Polarity\")"
   ]
  },
  {
   "cell_type": "code",
   "execution_count": 41,
   "metadata": {},
   "outputs": [
    {
     "data": {
      "text/plain": [
       "Text(0.5, 0, 'Polarity')"
      ]
     },
     "execution_count": 41,
     "metadata": {},
     "output_type": "execute_result"
    },
    {
     "data": {
      "image/png": "[encoded data removed]",
      "text/plain": [
       "<Figure size 432x288 with 1 Axes>"
      ]
     },
     "metadata": {
      "needs_background": "light"
     },
     "output_type": "display_data"
    }
   ],
   "source": [
    "# histogram of VADER polarity scores\n",
    "comments['VADER'].plot.hist()\n",
    "plt.title(\"VADER Polarity Score Distribution\")\n",
    "plt.xlabel(\"Polarity\")"
   ]
  },
  {
   "cell_type": "markdown",
   "metadata": {},
   "source": [
    "The two sentiment analysis score histograms also give some interesting results. They both center around 0, which makes sense. However, the VADER scores seem to be bimodal (or even trimodal), with additional apexes at -0.5 and 0.5. This may be just the way that VADER tends to score sentiments, or it could be something to delve deeper into. This is something we will explore further in future phases."
   ]
  },
  {
   "cell_type": "code",
   "execution_count": 42,
   "metadata": {},
   "outputs": [
    {
     "data": {
      "text/plain": [
       "Text(0.5, 0, '# stopwords / total words')"
      ]
     },
     "execution_count": 42,
     "metadata": {},
     "output_type": "execute_result"
    },
    {
     "data": {
      "image/png": "[encoded data removed]",
      "text/plain": [
       "<Figure size 432x288 with 1 Axes>"
      ]
     },
     "metadata": {
      "needs_background": "light"
     },
     "output_type": "display_data"
    }
   ],
   "source": [
    "# histogram of stopword ratios\n",
    "comments['stopword_ratio'].plot.hist()\n",
    "plt.title(\"Distribution of Ratio of Stopwords\")\n",
    "plt.xlabel(\"# stopwords / total words\")"
   ]
  },
  {
   "cell_type": "markdown",
   "metadata": {},
   "source": [
    "The stopword ratio histogram looks relatively normally distributed around 0.4. There isn't much to analyze here, especially since the correlation between stopword ratio and comment score was relatively low."
   ]
  },
  {
   "cell_type": "code",
   "execution_count": 43,
   "metadata": {},
   "outputs": [
    {
     "data": {
      "text/plain": [
       "Text(0.5, 0, 'Word Count')"
      ]
     },
     "execution_count": 43,
     "metadata": {},
     "output_type": "execute_result"
    },
    {
     "data": {
      "image/png": "[encoded data removed]",
      "text/plain": [
       "<Figure size 432x288 with 1 Axes>"
      ]
     },
     "metadata": {
      "needs_background": "light"
     },
     "output_type": "display_data"
    }
   ],
   "source": [
    "# histogram of comment length\n",
    "comments['body_length'].plot.hist()\n",
    "plt.title(\"Distribution of Comment Word Counts\")\n",
    "plt.xlabel(\"Word Count\")"
   ]
  },
  {
   "cell_type": "code",
   "execution_count": 44,
   "metadata": {},
   "outputs": [
    {
     "data": {
      "text/plain": [
       "Text(0.5, 0, 'Word Count')"
      ]
     },
     "execution_count": 44,
     "metadata": {},
     "output_type": "execute_result"
    },
    {
     "data": {
      "image/png": "[encoded data removed]",
      "text/plain": [
       "<Figure size 432x288 with 1 Axes>"
      ]
     },
     "metadata": {
      "needs_background": "light"
     },
     "output_type": "display_data"
    }
   ],
   "source": [
    "# histogram of comment length, for comments with less than 400 words\n",
    "comments[comments['body_length']  <= 400].body_length.plot.hist()\n",
    "plt.title(\"Distribution of Comment Word Counts < 400\")\n",
    "plt.xlabel(\"Word Count\")"
   ]
  },
  {
   "cell_type": "markdown",
   "metadata": {},
   "source": [
    "The distribution of comments with word counts is an interesting graph because it is almost a perfect right-skewed distribution. We can see that most of the comments were relatively short, but some were much longer."
   ]
  },
  {
   "cell_type": "code",
   "execution_count": 45,
   "metadata": {},
   "outputs": [
    {
     "data": {
      "text/plain": [
       "Text(0.5, 0, 'SMOG Score')"
      ]
     },
     "execution_count": 45,
     "metadata": {},
     "output_type": "execute_result"
    },
    {
     "data": {
      "image/png": "[encoded data removed]",
      "text/plain": [
       "<Figure size 432x288 with 1 Axes>"
      ]
     },
     "metadata": {
      "needs_background": "light"
     },
     "output_type": "display_data"
    }
   ],
   "source": [
    "# histogram of SMOG readability scores\n",
    "comments['smog_score'].plot.hist()\n",
    "plt.title(\"Distribution of SMOG Readability Scores\")\n",
    "plt.xlabel(\"SMOG Score\")"
   ]
  },
  {
   "cell_type": "code",
   "execution_count": 46,
   "metadata": {},
   "outputs": [
    {
     "data": {
      "text/plain": [
       "Text(0.5, 0, 'Gunning-Fog Score')"
      ]
     },
     "execution_count": 46,
     "metadata": {},
     "output_type": "execute_result"
    },
    {
     "data": {
      "image/png": "[encoded data removed]",
      "text/plain": [
       "<Figure size 432x288 with 1 Axes>"
      ]
     },
     "metadata": {
      "needs_background": "light"
     },
     "output_type": "display_data"
    }
   ],
   "source": [
    "# histogram of Gunning-Fog readability scores\n",
    "comments['gunning_fog_score'].plot.hist()\n",
    "plt.title(\"Distribution of Gunning-Fog Readability Scores\")\n",
    "plt.xlabel(\"Gunning-Fog Score\")"
   ]
  },
  {
   "cell_type": "code",
   "execution_count": 47,
   "metadata": {},
   "outputs": [
    {
     "data": {
      "text/plain": [
       "Text(0.5, 0, 'Gunning-Fog Score')"
      ]
     },
     "execution_count": 47,
     "metadata": {},
     "output_type": "execute_result"
    },
    {
     "data": {
      "image/png": "[encoded data removed]",
      "text/plain": [
       "<Figure size 432x288 with 1 Axes>"
      ]
     },
     "metadata": {
      "needs_background": "light"
     },
     "output_type": "display_data"
    }
   ],
   "source": [
    "# histogram of Gunning-Fog readability scores under 50\n",
    "comments[comments['gunning_fog_score'] <= 50].gunning_fog_score.plot.hist()\n",
    "plt.title(\"Distribution of Gunning-Fog Readability Scores < 50\")\n",
    "plt.xlabel(\"Gunning-Fog Score\")"
   ]
  },
  {
   "cell_type": "markdown",
   "metadata": {},
   "source": [
    "For the readability scores, the Gunning-Fog score is somewhat right skewed, with a peak in the range of 5-10 (i.e. a reading level for U.S. grades 5-10). The SMOG score seems at first glance to be more interesting, but this is likely just the way that the Smog score is calculated. It is likely that there is a normal distribution around 8 or 9 (i.e. a reading level for U.S. grades 8-9), with a handful of comments being given a score of 0 because SMOG couldn't accurately score it. This will be something we will look into in future phases, though, just to make sure."
   ]
  },
  {
   "cell_type": "markdown",
   "metadata": {},
   "source": [
    "## Part 4: Conclusions\n",
    "\n",
    "It was a little bit disappointing to not find any strong correlations between the comment score and the other variables, but in future phases we can still find new variables to compare and also look more deeply into the relationships than a correlation test will allow. However, we did still learn a lot about our data set, which we can iterate on for future phases."
   ]
  },
  {
   "cell_type": "code",
   "execution_count": null,
   "metadata": {},
   "outputs": [],
   "source": []
  }
 ],
 "metadata": {
  "kernelspec": {
   "display_name": "Python 3",
   "language": "python",
   "name": "python3"
  },
  "language_info": {
   "codemirror_mode": {
    "name": "ipython",
    "version": 3
   },
   "file_extension": ".py",
   "mimetype": "text/x-python",
   "name": "python",
   "nbconvert_exporter": "python",
   "pygments_lexer": "ipython3",
   "version": "3.7.4"
  }
 },
 "nbformat": 4,
 "nbformat_minor": 2
}
